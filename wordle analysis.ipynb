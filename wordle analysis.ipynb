{
 "cells": [
  {
   "cell_type": "code",
   "execution_count": 6,
   "metadata": {},
   "outputs": [],
   "source": [
    "import pandas as pd\n",
    "import numpy as np\n",
    "\n",
    "data = pd.read_csv(\"guesses.txt\", sep=\" \", header=None)\n",
    "letters = {\n",
    "  'a': 0,\n",
    "  'b': 0,\n",
    "  'c': 0,\n",
    "  'd': 0,\n",
    "  'e': 0,\n",
    "  'f': 0,\n",
    "  'g': 0,\n",
    "  'h': 0,\n",
    "  'i': 0,\n",
    "  'j': 0,\n",
    "  'k': 0,\n",
    "  'l': 0,\n",
    "  'm': 0,\n",
    "  'n': 0,\n",
    "  'o': 0,\n",
    "  'p': 0,\n",
    "  'q': 0,\n",
    "  'r': 0,\n",
    "  's': 0,\n",
    "  't': 0,\n",
    "  'u': 0,\n",
    "  'v': 0,\n",
    "  'w': 0,\n",
    "  'x': 0,\n",
    "  'y': 0,\n",
    "  'z': 0,\n",
    "  '[': 0,\n",
    "  ']': 0,\n",
    "  '\\'': 0,\n",
    "}"
   ]
  },
  {
   "cell_type": "code",
   "execution_count": 21,
   "metadata": {},
   "outputs": [],
   "source": [
    "def letter_count(word):\n",
    "    for letter in word:\n",
    "        letters[letter] += 1"
   ]
  },
  {
   "cell_type": "code",
   "execution_count": 92,
   "metadata": {},
   "outputs": [
    {
     "name": "stdout",
     "output_type": "stream",
     "text": [
      "{'a': 5011, 'b': 1346, 'c': 1551, 'd': 2060, 'e': 5429, 'f': 885, 'g': 1333, 'h': 1371, 'i': 3088, 'j': 264, 'k': 1295, 'l': 2652, 'm': 1660, 'n': 2377, 'o': 3684, 'p': 1652, 'q': 83, 'r': 3259, 's': 5996, 't': 2566, 'u': 2044, 'v': 541, 'w': 844, 'x': 251, 'y': 1649, 'z': 394}\n"
     ]
    }
   ],
   "source": [
    "list = data.values.tolist()\n",
    "\n",
    "for word in list:\n",
    "    letter_count(str(word))\n",
    "    \n",
    "del letters['['] \n",
    "del letters[']']\n",
    "del letters['\\'']"
   ]
  },
  {
   "cell_type": "code",
   "execution_count": 93,
   "metadata": {},
   "outputs": [
    {
     "data": {
      "text/plain": [
       "{'a': 5011,\n",
       " 'b': 1346,\n",
       " 'c': 1551,\n",
       " 'd': 2060,\n",
       " 'e': 5429,\n",
       " 'f': 885,\n",
       " 'g': 1333,\n",
       " 'h': 1371,\n",
       " 'i': 3088,\n",
       " 'j': 264,\n",
       " 'k': 1295,\n",
       " 'l': 2652,\n",
       " 'm': 1660,\n",
       " 'n': 2377,\n",
       " 'o': 3684,\n",
       " 'p': 1652,\n",
       " 'q': 83,\n",
       " 'r': 3259,\n",
       " 's': 5996,\n",
       " 't': 2566,\n",
       " 'u': 2044,\n",
       " 'v': 541,\n",
       " 'w': 844,\n",
       " 'x': 251,\n",
       " 'y': 1649,\n",
       " 'z': 394}"
      ]
     },
     "execution_count": 93,
     "metadata": {},
     "output_type": "execute_result"
    }
   ],
   "source": [
    "letters"
   ]
  },
  {
   "cell_type": "code",
   "execution_count": 87,
   "metadata": {},
   "outputs": [],
   "source": [
    "data2 = pd.DataFrame.from_dict(letters, orient='index', columns=['count'])"
   ]
  },
  {
   "cell_type": "code",
   "execution_count": 86,
   "metadata": {},
   "outputs": [
    {
     "data": {
      "text/plain": [
       "<BarContainer object of 26 artists>"
      ]
     },
     "execution_count": 86,
     "metadata": {},
     "output_type": "execute_result"
    },
    {
     "data": {
      "image/png": "[encoded data removed]",
      "text/plain": [
       "<Figure size 432x288 with 1 Axes>"
      ]
     },
     "metadata": {
      "needs_background": "light"
     },
     "output_type": "display_data"
    }
   ],
   "source": [
    "plt.bar(letters.keys(), letters.values(), color='g')"
   ]
  },
  {
   "cell_type": "markdown",
   "metadata": {},
   "source": [
    "features:\n",
    "\n",
    "Count by words, not frequency\n",
    "Options remaining with letters that don't exist\n",
    "5 suggestions"
   ]
  }
 ],
 "metadata": {
  "kernelspec": {
   "display_name": "Python 3",
   "language": "python",
   "name": "python3"
  },
  "language_info": {
   "codemirror_mode": {
    "name": "ipython",
    "version": 3
   },
   "file_extension": ".py",
   "mimetype": "text/x-python",
   "name": "python",
   "nbconvert_exporter": "python",
   "pygments_lexer": "ipython3",
   "version": "3.8.3"
  }
 },
 "nbformat": 4,
 "nbformat_minor": 4
}
